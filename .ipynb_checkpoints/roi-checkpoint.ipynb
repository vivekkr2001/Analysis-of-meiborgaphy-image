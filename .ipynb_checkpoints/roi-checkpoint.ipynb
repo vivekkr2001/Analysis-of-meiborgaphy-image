{
 "cells": [
  {
   "cell_type": "code",
   "execution_count": null,
   "id": "29c61289",
   "metadata": {},
   "outputs": [
    {
     "ename": "",
     "evalue": "",
     "output_type": "error",
     "traceback": [
      "\u001b[1;31mThe kernel failed to start as 'filefind' could not be imported from '/home/vivek/.local/lib/python3.8/site-packages/traitlets/utils/__init__.py'.\n",
      "Click <a href='https://aka.ms/kernelFailuresModuleImportErrFromFile'>here</a> for more info."
     ]
    }
   ],
   "source": [
    "from random import random as rand\n",
    "from random import randint\n",
    "import re\n",
    "from turtle import width\n",
    "from unittest import result\n",
    "from scipy.interpolate import interp1d\n",
    "import cv2\n",
    "from cv2 import invert\n",
    "import numpy as np"
   ]
  },
  {
   "cell_type": "code",
   "execution_count": null,
   "id": "c00a3731",
   "metadata": {},
   "outputs": [
    {
     "ename": "",
     "evalue": "",
     "output_type": "error",
     "traceback": [
      "\u001b[1;31mThe kernel failed to start as 'filefind' could not be imported from '/home/vivek/.local/lib/python3.8/site-packages/traitlets/utils/__init__.py'.\n",
      "Click <a href='https://aka.ms/kernelFailuresModuleImportErrFromFile'>here</a> for more info."
     ]
    }
   ],
   "source": [
    "def binarise (img, threshold=100) :\n",
    "    print(img.shape)\n",
    "    binarise_image = np.zeros(img.shape)\n",
    "    for i in range(0, img.shape[0]):\n",
    "        for j in range(0, img.shape[1]):\n",
    "            if (img[i][j] < threshold):\n",
    "                   img[i][j] = 0\n",
    "            else:\n",
    "                   img[i][j] = 255       \n",
    "    binarise_image = img\n",
    "    return binarise_image"
   ]
  },
  {
   "cell_type": "code",
   "execution_count": null,
   "id": "b2d7d811",
   "metadata": {},
   "outputs": [
    {
     "ename": "",
     "evalue": "",
     "output_type": "error",
     "traceback": [
      "\u001b[1;31mThe kernel failed to start as 'filefind' could not be imported from '/home/vivek/.local/lib/python3.8/site-packages/traitlets/utils/__init__.py'.\n",
      "Click <a href='https://aka.ms/kernelFailuresModuleImportErrFromFile'>here</a> for more info."
     ]
    }
   ],
   "source": [
    "def dilation(image):\n",
    "    kernel = np.ones((5,5), np.uint8)  \n",
    "    dilated_image = cv2.dilate(image, kernel, iterations=4)  \n",
    "    return dilated_image"
   ]
  },
  {
   "cell_type": "code",
   "execution_count": null,
   "id": "d3909f7b",
   "metadata": {},
   "outputs": [
    {
     "ename": "",
     "evalue": "",
     "output_type": "error",
     "traceback": [
      "\u001b[1;31mThe kernel failed to start as 'filefind' could not be imported from '/home/vivek/.local/lib/python3.8/site-packages/traitlets/utils/__init__.py'.\n",
      "Click <a href='https://aka.ms/kernelFailuresModuleImportErrFromFile'>here</a> for more info."
     ]
    }
   ],
   "source": [
    "def erosion(image):\n",
    "    kernel = np.ones((5,5), np.uint8)\n",
    "    eroded_image = cv2.erode(image, kernel)\n",
    "    return eroded_image"
   ]
  },
  {
   "cell_type": "code",
   "execution_count": null,
   "id": "b4f52432",
   "metadata": {},
   "outputs": [
    {
     "ename": "",
     "evalue": "",
     "output_type": "error",
     "traceback": [
      "\u001b[1;31mThe kernel failed to start as 'filefind' could not be imported from '/home/vivek/.local/lib/python3.8/site-packages/traitlets/utils/__init__.py'.\n",
      "Click <a href='https://aka.ms/kernelFailuresModuleImportErrFromFile'>here</a> for more info."
     ]
    }
   ],
   "source": [
    "def subtracted(original_image, processed_image):\n",
    "    subtracted_image = cv2.subtract(original_image, processed_image)\n",
    "    return subtracted_image"
   ]
  },
  {
   "cell_type": "code",
   "execution_count": null,
   "id": "ea5806c6",
   "metadata": {},
   "outputs": [
    {
     "ename": "",
     "evalue": "",
     "output_type": "error",
     "traceback": [
      "\u001b[1;31mThe kernel failed to start as 'filefind' could not be imported from '/home/vivek/.local/lib/python3.8/site-packages/traitlets/utils/__init__.py'.\n",
      "Click <a href='https://aka.ms/kernelFailuresModuleImportErrFromFile'>here</a> for more info."
     ]
    }
   ],
   "source": [
    "def median_filter(noisy_image): \n",
    "    m, n = noisy_image.shape\n",
    "    filtered_image = np.zeros([m, n])\n",
    "    \n",
    "    for i in range(1, m-1):\n",
    "        for j in range(1, n-1):\n",
    "            temp = [noisy_image[i-1, j-1],\n",
    "                noisy_image[i-1, j],\n",
    "                noisy_image[i-1, j + 1],\n",
    "                noisy_image[i, j-1],\n",
    "                noisy_image[i, j],\n",
    "                noisy_image[i, j + 1],\n",
    "                noisy_image[i + 1, j-1],\n",
    "                noisy_image[i + 1, j],\n",
    "                noisy_image[i + 1, j + 1]]\n",
    "            temp = sorted(temp)\n",
    "            filtered_image[i, j]= temp[4]\n",
    "            \n",
    "    filtered_image = filtered_image.astype(np.uint8)\n",
    "    return filtered_image"
   ]
  },
  {
   "cell_type": "code",
   "execution_count": null,
   "id": "05209f62",
   "metadata": {},
   "outputs": [
    {
     "ename": "",
     "evalue": "",
     "output_type": "error",
     "traceback": [
      "\u001b[1;31mThe kernel failed to start as 'filefind' could not be imported from '/home/vivek/.local/lib/python3.8/site-packages/traitlets/utils/__init__.py'.\n",
      "Click <a href='https://aka.ms/kernelFailuresModuleImportErrFromFile'>here</a> for more info."
     ]
    }
   ],
   "source": [
    "def convolution_filter(image):\n",
    "    if image is None:\n",
    "        print('Could not read image')\n",
    "    \n",
    "    kernel1 = np.array([[0, 0, 0],\n",
    "\t                    [0, 1, 0],\n",
    "\t                    [0, 0, 0]])\n",
    "\n",
    "    convolution_image = cv2.filter2D(src=image, ddepth=-1, kernel=kernel1)\n",
    "    return convolution_image"
   ]
  },
  {
   "cell_type": "code",
   "execution_count": null,
   "id": "0471f287",
   "metadata": {},
   "outputs": [
    {
     "ename": "",
     "evalue": "",
     "output_type": "error",
     "traceback": [
      "\u001b[1;31mThe kernel failed to start as 'filefind' could not be imported from '/home/vivek/.local/lib/python3.8/site-packages/traitlets/utils/__init__.py'.\n",
      "Click <a href='https://aka.ms/kernelFailuresModuleImportErrFromFile'>here</a> for more info."
     ]
    }
   ],
   "source": [
    "def binary_inv(image):\n",
    "    inverted = cv2.bitwise_not(image)\n",
    "    return inverted"
   ]
  },
  {
   "cell_type": "code",
   "execution_count": null,
   "id": "d8ee32b5",
   "metadata": {},
   "outputs": [
    {
     "ename": "",
     "evalue": "",
     "output_type": "error",
     "traceback": [
      "\u001b[1;31mThe kernel failed to start as 'filefind' could not be imported from '/home/vivek/.local/lib/python3.8/site-packages/traitlets/utils/__init__.py'.\n",
      "Click <a href='https://aka.ms/kernelFailuresModuleImportErrFromFile'>here</a> for more info."
     ]
    }
   ],
   "source": [
    "def get_contour_areas(contours):\n",
    "\n",
    "    all_areas= []\n",
    "\n",
    "    for cnt in contours:\n",
    "        area= cv2.contourArea(cnt)\n",
    "        print(area)\n",
    "        all_areas.append(area)\n",
    "\n",
    "    return all_areas"
   ]
  },
  {
   "cell_type": "code",
   "execution_count": null,
   "id": "b8aead4a",
   "metadata": {},
   "outputs": [
    {
     "ename": "",
     "evalue": "",
     "output_type": "error",
     "traceback": [
      "\u001b[1;31mThe kernel failed to start as 'filefind' could not be imported from '/home/vivek/.local/lib/python3.8/site-packages/traitlets/utils/__init__.py'.\n",
      "Click <a href='https://aka.ms/kernelFailuresModuleImportErrFromFile'>here</a> for more info."
     ]
    }
   ],
   "source": [
    "def gradient_convex(src_gray, val):\n",
    "    threshold = val\n",
    "    retVal, mask = cv2.threshold(src_gray,155,255,cv2.THRESH_BINARY_INV)\n",
    "    kernel = np.ones((5,5),np.uint8)\n",
    "    gradient = cv2.morphologyEx(mask, cv2.MORPH_GRADIENT, kernel)\n",
    "    \n",
    "    # canny_output = cv2.Canny(gradient, threshold, 2*threshold)\n",
    "\n",
    "    contours, _ = cv2.findContours(gradient, cv2.RETR_EXTERNAL, cv2.CHAIN_APPROX_SIMPLE)\n",
    "\n",
    "    hull_list = []\n",
    "    for i in range(len(contours)):\n",
    "        hull = cv2.convexHull(contours[i])\n",
    "        hull_list.append(hull)\n",
    "\n",
    "    drawing = np.ones((gradient.shape[0], gradient.shape[1], 3), dtype=np.uint8)\n",
    "    cv2.imshow('contour', drawing)\n",
    "\n",
    "    for i in range(len(contours)):\n",
    "        color = (0, 255, 0)\n",
    "        # cv2.drawContours(drawing, hull_list, i, color)\n",
    "        cv2.drawContours(drawing, contours, i, color)\n",
    "        cnt = contours[i]\n",
    "        cv2.drawContours(drawing, [cnt], 0, (0, 255, 0), 3)\n",
    "        cv2.fillConvexPoly(drawing, contours[i],(0, 255, 0), lineType=4, shift=0)\n",
    "\n",
    "    kernel = np.ones((5,5), np.uint8)\n",
    "    erosion_img = cv2.erode(drawing, kernel, iterations=1) \n",
    "    img_dilation = cv2.dilate(erosion_img, kernel, iterations=1) \n",
    "    cv2.imshow('dil Object', img_dilation) \n",
    "    sorted_contours = get_contour_areas(contours = contours) \n",
    "    sorted_contours= sorted(contours, key=cv2.contourArea, reverse= True)\n",
    "    largest_item= sorted_contours[0]\n",
    "    # print(sorted_contours)\n",
    "    \n",
    "    cv2.drawContours(erosion_img, largest_item, -1, (255,0,0),10)\n",
    "    # cv2.imshow(\"hhhhh\",erosion_img)\n",
    "    return drawing"
   ]
  },
  {
   "cell_type": "code",
   "execution_count": null,
   "id": "359a4966",
   "metadata": {},
   "outputs": [
    {
     "ename": "",
     "evalue": "",
     "output_type": "error",
     "traceback": [
      "\u001b[1;31mThe kernel failed to start as 'filefind' could not be imported from '/home/vivek/.local/lib/python3.8/site-packages/traitlets/utils/__init__.py'.\n",
      "Click <a href='https://aka.ms/kernelFailuresModuleImportErrFromFile'>here</a> for more info."
     ]
    }
   ],
   "source": [
    "def laplace_filter(source_image):\n",
    "    ddepth = cv2.CV_16S\n",
    "    kernel_size = 7\n",
    "\n",
    "    destination_image = cv2.Laplacian(source_image, -3, ksize=kernel_size)\n",
    "    abs_dst = cv2.convertScaleAbs(destination_image)\n",
    "    \n",
    "    return abs_dst"
   ]
  },
  {
   "cell_type": "code",
   "execution_count": null,
   "id": "dc87aa42",
   "metadata": {},
   "outputs": [
    {
     "ename": "",
     "evalue": "",
     "output_type": "error",
     "traceback": [
      "\u001b[1;31mThe kernel failed to start as 'filefind' could not be imported from '/home/vivek/.local/lib/python3.8/site-packages/traitlets/utils/__init__.py'.\n",
      "Click <a href='https://aka.ms/kernelFailuresModuleImportErrFromFile'>here</a> for more info."
     ]
    }
   ],
   "source": [
    "def binarise_invert(image):\n",
    "    binarise_image2 = binarise(image)\n",
    "    bin_inv_image = binary_inv(binarise_image2)\n",
    "    return bin_inv_image"
   ]
  },
  {
   "cell_type": "code",
   "execution_count": null,
   "id": "977851b1",
   "metadata": {},
   "outputs": [
    {
     "ename": "",
     "evalue": "",
     "output_type": "error",
     "traceback": [
      "\u001b[1;31mThe kernel failed to start as 'filefind' could not be imported from '/home/vivek/.local/lib/python3.8/site-packages/traitlets/utils/__init__.py'.\n",
      "Click <a href='https://aka.ms/kernelFailuresModuleImportErrFromFile'>here</a> for more info."
     ]
    }
   ],
   "source": [
    "def border_reject(subtracted_image):\n",
    "    kernel = np.ones((5,5), np.uint8)  \n",
    "    img_erosion = cv2.erode(subtracted_image, kernel, iterations=1)  \n",
    "    img_dilation = cv2.dilate(img_erosion, kernel, iterations=2)  \n",
    "\n",
    "    gX = cv2.Canny(img_dilation, 10, 200)\n",
    "    gY = cv2.Canny(img_dilation, 10, 200)\n",
    "    gX = cv2.convertScaleAbs(gX)\n",
    "    gY = cv2.convertScaleAbs(gY)\n",
    "    combined = cv2.addWeighted(gX, 0.5, gY, 0.5, 0)\n",
    "\n",
    "    return combined"
   ]
  },
  {
   "cell_type": "code",
   "execution_count": null,
   "id": "268b323d",
   "metadata": {},
   "outputs": [
    {
     "ename": "",
     "evalue": "",
     "output_type": "error",
     "traceback": [
      "\u001b[1;31mThe kernel failed to start as 'filefind' could not be imported from '/home/vivek/.local/lib/python3.8/site-packages/traitlets/utils/__init__.py'.\n",
      "Click <a href='https://aka.ms/kernelFailuresModuleImportErrFromFile'>here</a> for more info."
     ]
    }
   ],
   "source": [
    "def remove_angle(image):\n",
    "    if image is None:\n",
    "        print('Could not read image')\n",
    "\n",
    "    kernel1 = np.array([[2, -1, -1],\n",
    "\t                    [-1, 2, -1],\n",
    "\t                    [-1, -1, 2]])\n",
    "\n",
    "    angle_image1 = cv2.filter2D(src=image, ddepth=-1, kernel=kernel1)\n",
    "    \n",
    "    kernel2 = np.array([[-1, -1, 2],\n",
    "\t                    [-1, 2, -1],\n",
    "\t                    [2, -1, -1]])\n",
    "\n",
    "    angle_image2 = cv2.filter2D(src=angle_image1, ddepth=-1, kernel=kernel2)\n",
    "    return angle_image2"
   ]
  },
  {
   "cell_type": "code",
   "execution_count": null,
   "id": "bdd25ae5",
   "metadata": {},
   "outputs": [
    {
     "name": "stdout",
     "output_type": "stream",
     "text": [
      "(247, 516)\n",
      "(247, 516)\n",
      "179.0\n",
      "238.0\n",
      "206.0\n",
      "329.5\n",
      "34214.5\n",
      "166.0\n",
      "557.5\n",
      "533.5\n"
     ]
    },
    {
     "ename": "",
     "evalue": "",
     "output_type": "error",
     "traceback": [
      "\u001b[1;31mThe kernel failed to start as 'filefind' could not be imported from '/home/vivek/.local/lib/python3.8/site-packages/traitlets/utils/__init__.py'.\n",
      "Click <a href='https://aka.ms/kernelFailuresModuleImportErrFromFile'>here</a> for more info."
     ]
    }
   ],
   "source": [
    "if __name__ == \"__main__\":\n",
    "    image = cv2.imread('./img3.png')\n",
    "    \n",
    "    img_gaussian = cv2.cvtColor(image, cv2.COLOR_BGR2GRAY)\n",
    "    kernelx = np.array([[1,1,1],[0,0,0],[-1,-1,-1]])\n",
    "    kernely = np.array([[-1,0,1],[-1,0,1],[-1,0,1]])\n",
    "    img_prewittx = cv2.filter2D(img_gaussian, -1, kernelx)\n",
    "    img_prewitty = cv2.filter2D(img_gaussian, -1, kernely)\n",
    "\n",
    "    binarise_image = binarise(img_prewittx + img_prewitty)\n",
    "    dilated_image = dilation(binarise_image)\n",
    "    subtracted_image = subtracted(img_gaussian, dilated_image)\n",
    "    filtered_image = median_filter(subtracted_image)\n",
    "    convolution_image = convolution_filter(filtered_image)\n",
    "    laplace_image = laplace_filter(convolution_image)\n",
    "    bin_inv_image = binarise_invert(laplace_image)\n",
    "    subtracted_image2 = subtracted(img_gaussian, bin_inv_image)\n",
    "    cv2.imshow('Sub_img', subtracted_image2)\n",
    "    border_reject_image = border_reject(subtracted_image2)\n",
    "    cv2.imshow('combined', border_reject_image)\n",
    "    result_image = gradient_convex(border_reject_image, 100)\n",
    "\n",
    "    # eroded_img = erosion(result_image)\n",
    "    \n",
    "    cv2.imshow('Result', result_image)\n",
    "    cv2.waitKey(0)\n",
    "    cv2.destroyAllWindows()"
   ]
  },
  {
   "cell_type": "code",
   "execution_count": null,
   "id": "344d5016",
   "metadata": {},
   "outputs": [
    {
     "ename": "",
     "evalue": "",
     "output_type": "error",
     "traceback": [
      "\u001b[1;31mThe kernel failed to start as 'filefind' could not be imported from '/home/vivek/.local/lib/python3.8/site-packages/traitlets/utils/__init__.py'.\n",
      "Click <a href='https://aka.ms/kernelFailuresModuleImportErrFromFile'>here</a> for more info."
     ]
    }
   ],
   "source": []
  },
  {
   "cell_type": "code",
   "execution_count": null,
   "id": "ef403888",
   "metadata": {},
   "outputs": [
    {
     "ename": "",
     "evalue": "",
     "output_type": "error",
     "traceback": [
      "\u001b[1;31mThe kernel failed to start as 'filefind' could not be imported from '/home/vivek/.local/lib/python3.8/site-packages/traitlets/utils/__init__.py'.\n",
      "Click <a href='https://aka.ms/kernelFailuresModuleImportErrFromFile'>here</a> for more info."
     ]
    }
   ],
   "source": [
    "img_2 = cv2.imread('./img3.png')\n",
    "img_2_gray = cv2.cvtColor(img_2, cv2.COLOR_BGR2GRAY)"
   ]
  },
  {
   "cell_type": "code",
   "execution_count": null,
   "id": "4658743b",
   "metadata": {},
   "outputs": [
    {
     "ename": "",
     "evalue": "",
     "output_type": "error",
     "traceback": [
      "\u001b[1;31mThe kernel failed to start as 'filefind' could not be imported from '/home/vivek/.local/lib/python3.8/site-packages/traitlets/utils/__init__.py'.\n",
      "Click <a href='https://aka.ms/kernelFailuresModuleImportErrFromFile'>here</a> for more info."
     ]
    }
   ],
   "source": [
    "fil_img = median_filter(img_2_gray)\n",
    "convoluted_img = convolution_filter(fil_img)\n",
    "lap_img = laplace_filter(convoluted_img)"
   ]
  },
  {
   "cell_type": "code",
   "execution_count": null,
   "id": "c1f2ea0e",
   "metadata": {},
   "outputs": [
    {
     "name": "stdout",
     "output_type": "stream",
     "text": [
      "(247, 516)\n"
     ]
    },
    {
     "ename": "",
     "evalue": "",
     "output_type": "error",
     "traceback": [
      "\u001b[1;31mThe kernel failed to start as 'filefind' could not be imported from '/home/vivek/.local/lib/python3.8/site-packages/traitlets/utils/__init__.py'.\n",
      "Click <a href='https://aka.ms/kernelFailuresModuleImportErrFromFile'>here</a> for more info."
     ]
    }
   ],
   "source": [
    "roi = cv2.imread('./roi.jpeg')\n",
    "roi_gray = cv2.cvtColor(roi, cv2.COLOR_BGR2GRAY)\n",
    "roi_binarise = binarise(roi_gray)"
   ]
  },
  {
   "cell_type": "code",
   "execution_count": null,
   "id": "acf1f295",
   "metadata": {},
   "outputs": [
    {
     "name": "stdout",
     "output_type": "stream",
     "text": [
      "(247, 516)\n"
     ]
    },
    {
     "ename": "",
     "evalue": "",
     "output_type": "error",
     "traceback": [
      "\u001b[1;31mThe kernel failed to start as 'filefind' could not be imported from '/home/vivek/.local/lib/python3.8/site-packages/traitlets/utils/__init__.py'.\n",
      "Click <a href='https://aka.ms/kernelFailuresModuleImportErrFromFile'>here</a> for more info."
     ]
    }
   ],
   "source": [
    "# multiplying with ROI and binarizing\n",
    "\n",
    "cropped_img = cv2.multiply(lap_img, roi_binarise)\n",
    "bin_img = binarise(cropped_img, threshold=127)"
   ]
  },
  {
   "cell_type": "code",
   "execution_count": null,
   "id": "a2ed92f1",
   "metadata": {},
   "outputs": [
    {
     "ename": "",
     "evalue": "",
     "output_type": "error",
     "traceback": [
      "\u001b[1;31mThe kernel failed to start as 'filefind' could not be imported from '/home/vivek/.local/lib/python3.8/site-packages/traitlets/utils/__init__.py'.\n",
      "Click <a href='https://aka.ms/kernelFailuresModuleImportErrFromFile'>here</a> for more info."
     ]
    }
   ],
   "source": [
    "# median filtering and removing objects with angle 45 and 135 in degrees.\n",
    "fil_crop_img = median_filter(bin_img)\n",
    "angle_img = remove_angle(fil_crop_img)\n",
    "subtract_img = subtracted(fil_crop_img, angle_img)"
   ]
  },
  {
   "cell_type": "code",
   "execution_count": null,
   "id": "36466d30",
   "metadata": {},
   "outputs": [
    {
     "ename": "",
     "evalue": "",
     "output_type": "error",
     "traceback": [
      "\u001b[1;31mThe kernel failed to start as 'filefind' could not be imported from '/home/vivek/.local/lib/python3.8/site-packages/traitlets/utils/__init__.py'.\n",
      "Click <a href='https://aka.ms/kernelFailuresModuleImportErrFromFile'>here</a> for more info."
     ]
    }
   ],
   "source": []
  },
  {
   "cell_type": "code",
   "execution_count": null,
   "id": "48758f67",
   "metadata": {},
   "outputs": [
    {
     "ename": "",
     "evalue": "",
     "output_type": "error",
     "traceback": [
      "\u001b[1;31mThe kernel failed to start as 'filefind' could not be imported from '/home/vivek/.local/lib/python3.8/site-packages/traitlets/utils/__init__.py'.\n",
      "Click <a href='https://aka.ms/kernelFailuresModuleImportErrFromFile'>here</a> for more info."
     ]
    }
   ],
   "source": [
    "cv2.imshow('output', subtract_img)\n",
    "cv2.waitKey(0)\n",
    "cv2.destroyAllWindows()"
   ]
  },
  {
   "cell_type": "code",
   "execution_count": null,
   "id": "6e5ba839",
   "metadata": {},
   "outputs": [
    {
     "ename": "",
     "evalue": "",
     "output_type": "error",
     "traceback": [
      "\u001b[1;31mThe kernel failed to start as 'filefind' could not be imported from '/home/vivek/.local/lib/python3.8/site-packages/traitlets/utils/__init__.py'.\n",
      "Click <a href='https://aka.ms/kernelFailuresModuleImportErrFromFile'>here</a> for more info."
     ]
    }
   ],
   "source": []
  }
 ],
 "metadata": {
  "kernelspec": {
   "display_name": "Python 3 (ipykernel)",
   "language": "python",
   "name": "python3"
  },
  "language_info": {
   "codemirror_mode": {
    "name": "ipython",
    "version": 3
   },
   "file_extension": ".py",
   "mimetype": "text/x-python",
   "name": "python",
   "nbconvert_exporter": "python",
   "pygments_lexer": "ipython3",
   "version": "3.8.10"
  },
  "vscode": {
   "interpreter": {
    "hash": "916dbcbb3f70747c44a77c7bcd40155683ae19c65e1c03b4aa3499c5328201f1"
   }
  }
 },
 "nbformat": 4,
 "nbformat_minor": 5
}
